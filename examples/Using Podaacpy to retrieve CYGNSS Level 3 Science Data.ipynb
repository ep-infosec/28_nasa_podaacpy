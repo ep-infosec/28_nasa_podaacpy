{
 "cells": [
  {
   "cell_type": "code",
   "execution_count": null,
   "metadata": {},
   "outputs": [],
   "source": [
    "# Licensed under the Apache License, Version 2.0 (the \"License\");\n",
    "# you may not use this file except in compliance with the License.\n",
    "# You may obtain a copy of the License at\n",
    "#\n",
    "#      http://www.apache.org/licenses/LICENSE-2.0\n",
    "#\n",
    "# Unless required by applicable law or agreed to in writing, software\n",
    "# distributed under the License is distributed on an \"AS IS\" BASIS,\n",
    "# WITHOUT WARRANTIES OR CONDITIONS OF ANY KIND, either express or implied.\n",
    "# See the License for the specific language governing permissions and\n",
    "# limitations under the License."
   ]
  },
  {
   "cell_type": "code",
   "execution_count": null,
   "metadata": {},
   "outputs": [],
   "source": [
    "#First lets import the libraries we require\n",
    "from pprint import pprint\n",
    "import podaac.podaac as podaac\n",
    "import podaac.podaac_utils as utils"
   ]
  },
  {
   "cell_type": "code",
   "execution_count": null,
   "metadata": {},
   "outputs": [],
   "source": [
    "#Then we can create instances of the classes we will use\n",
    "p = podaac.Podaac()\n",
    "u = utils.PodaacUtils()"
   ]
  },
  {
   "cell_type": "code",
   "execution_count": null,
   "metadata": {},
   "outputs": [],
   "source": [
    "#Print a list of CYGNSS dataset id's\n",
    "print('\\nHeres list_all_available_granule_search_dataset_ids()')\n",
    "result = u.list_all_available_granule_search_dataset_ids()\n",
    "dsetId = [i for i in result if 'CYG' in i]\n",
    "print(dsetId)"
   ]
  },
  {
   "cell_type": "code",
   "execution_count": null,
   "metadata": {},
   "outputs": [],
   "source": [
    "#Print a list of CYGNSS dataset short names\n",
    "print('\\nHeres list_all_available_granule_search_dataset_short_names()')\n",
    "result = u.list_all_available_granule_search_dataset_short_names()\n",
    "dsetShortName = [i for i in result if 'CYG' in i]\n",
    "print(dsetShortName)"
   ]
  },
  {
   "cell_type": "code",
   "execution_count": null,
   "metadata": {},
   "outputs": [],
   "source": [
    "# Some dataset metadata in GCMD response format\n",
    "print('\\nHeres p.dataset_metadata()')\n",
    "print(p.dataset_metadata(dataset_id=dsetId[0], format='gcmd'))"
   ]
  },
  {
   "cell_type": "code",
   "execution_count": null,
   "metadata": {},
   "outputs": [],
   "source": [
    "#Perform a search on dataset\n",
    "#NOTE: dataset_id=dsetID pulled up nothing, had to use short_name=\n",
    "print('\\nHeres p.dataset_search()')\n",
    "result = p.dataset_search(short_name=dsetShortName[0])\n",
    "\n",
    "#Cache the dataset landing page URL\n",
    "searchStr = 'http://podaac.jpl.nasa.gov/dataset/'\n",
    "dataset_landing_page = [ str(i) for i in result.strip().split() if searchStr in i ][0]\n",
    "\n",
    "print(result)"
   ]
  },
  {
   "cell_type": "code",
   "execution_count": null,
   "metadata": {},
   "outputs": [],
   "source": [
    "#Print total number of GYGNSS granules\n",
    "print('\\nHeres total results using p.granule_search()')\n",
    "maxResultsPerPage = '400'\n",
    "result = p.granule_search(dataset_id=dsetId[0],items_per_page=maxResultsPerPage)\n",
    "print(result)\n",
    "searchStr = 'totalResults'\n",
    "numResultsStr = [ str(i) for i in result.strip().split() if searchStr in i ]\n",
    "print(numResultsStr)"
   ]
  },
  {
   "cell_type": "code",
   "execution_count": null,
   "metadata": {},
   "outputs": [],
   "source": [
    "#print('\\nHeres the length of file listing: '+str(len(fileStrL))+'\\n')\n",
    "searchStr = '<title>cyg'\n",
    "fileStrL = [ str(i) for i in result.strip().split() if searchStr in i ]\n",
    "podaacL3 = [ i.replace('<title>','').replace('</title>','') for i in fileStrL ]\n",
    "pprint(podaacL3)"
   ]
  },
  {
   "cell_type": "code",
   "execution_count": null,
   "metadata": {},
   "outputs": [],
   "source": [
    "#Using Elsevier's Scopus Search, lets see if we can \n",
    "#retreieve any information from the above dataset landing page\n",
    "url = 'https://api.elsevier.com/content/search/scopus?query=ALL:' + dataset_landing_page + '&APIKey=715b412c00f0b95e918a3e7abe6e6ee4'\n",
    "import requests\n",
    "try:\n",
    "    metadata = requests.get(url)\n",
    "    status_codes = [404, 400, 503, 408]\n",
    "    if metadata.status_code in status_codes:\n",
    "        metadata.raise_for_status()\n",
    "except requests.exceptions.HTTPError as error:\n",
    "    print(error)\n",
    "    raise\n",
    "\n",
    "pprint(metadata.text)"
   ]
  },
  {
   "cell_type": "code",
   "execution_count": null,
   "metadata": {},
   "outputs": [],
   "source": [
    "#Again, using Elsevier's Scopus Search, lets see other CYGNSS resource we can retreive.\n",
    "url = 'https://api.elsevier.com/content/search/scopus?query=ALL:cygnss&APIKey=715b412c00f0b95e918a3e7abe6e6ee4'\n",
    "import requests\n",
    "try:\n",
    "    metadata = requests.get(url)\n",
    "    status_codes = [404, 400, 503, 408]\n",
    "    if metadata.status_code in status_codes:\n",
    "        metadata.raise_for_status()\n",
    "except requests.exceptions.HTTPError as error:\n",
    "    print(error)\n",
    "    raise\n",
    "\n",
    "pprint(metadata.text)"
   ]
  }
 ],
 "metadata": {
  "kernelspec": {
   "display_name": "Python 3",
   "language": "python",
   "name": "python3"
  },
  "language_info": {
   "codemirror_mode": {
    "name": "ipython",
    "version": 3
   },
   "file_extension": ".py",
   "mimetype": "text/x-python",
   "name": "python",
   "nbconvert_exporter": "python",
   "pygments_lexer": "ipython3",
   "version": "3.6.5"
  }
 },
 "nbformat": 4,
 "nbformat_minor": 2
}
