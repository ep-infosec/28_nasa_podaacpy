{
 "cells": [
  {
   "cell_type": "code",
   "execution_count": null,
   "metadata": {},
   "outputs": [],
   "source": [
    "# Licensed to the Apache Software Foundation (ASF) under one\n",
    "# or more contributor license agreements.  See the NOTICE file\n",
    "# distributed with this work for additional information\n",
    "# regarding copyright ownership.  The ASF licenses this file\n",
    "# to you under the Apache License, Version 2.0 (the\n",
    "# \"License\"); you may not use this file except in compliance\n",
    "# with the License.  You may obtain a copy of the License at\n",
    "#\n",
    "#    http://www.apache.org/licenses/LICENSE-2.0\n",
    "#\n",
    "# Unless required by applicable law or agreed to in writing,\n",
    "# software distributed under the License is distributed on an\n",
    "# \"AS IS\" BASIS, WITHOUT WARRANTIES OR CONDITIONS OF ANY\n",
    "# KIND, either express or implied.  See the License for the\n",
    "# specific language governing permissions and limitations\n",
    "# under the License."
   ]
  },
  {
   "cell_type": "code",
   "execution_count": null,
   "metadata": {},
   "outputs": [],
   "source": [
    "#\n",
    "#    Podaacpy integration example\n",
    "#    This example integrates Podaacpy within Apache Open Climate Workbench (OCW) to download \n",
    "#    a PODACC dataset, execute some climate model evaluation and then plot a contour map.\n",
    "#    \n",
    "#    In this example:\n",
    "#    1. Download a remote PO.DAAC (https://podaac.jpl.nasa.gov/) dataset\n",
    "#       and read it into an OCW dataset object. In this case we demonstrate the source dataset\n",
    "#       'Cross-Calibrated Multi-Platform Ocean Surface Wind Vector L3.0 First-Look Analyses'\n",
    "#       which can be found at \n",
    "#       https://podaac.jpl.nasa.gov/dataset/CCMP_MEASURES_ATLAS_L4_OW_L3_0_WIND_VECTORS_FLK\n",
    "#    2. Create a temporal Standard Deviation metric using one of the OCW standard metrics.\n",
    "#    3. Evaluate the dataset against the metric and plot a contour map.\n",
    "#    OCW modules demonstrated:\n",
    "#    1. datasource/podaac_datasource\n",
    "#    2. metrics\n",
    "#    3. evaluation\n",
    "#    4. plotter"
   ]
  },
  {
   "cell_type": "code",
   "execution_count": null,
   "metadata": {},
   "outputs": [],
   "source": [
    "# imports \n",
    "# N.B. you NEED to have Apache OCW installed locally before attemtping the following imports,\n",
    "# you can do this as follows \n",
    "\n",
    "# $  conda install -c conda-forge ocw \n",
    "\n",
    "from __future__ import print_function\n",
    "\n",
    "import ocw.data_source.podaac_datasource as podaac\n",
    "import ocw.evaluation as evaluation\n",
    "import ocw.metrics as metrics\n",
    "import ocw.plotter as plotter"
   ]
  },
  {
   "cell_type": "code",
   "execution_count": null,
   "metadata": {},
   "outputs": [],
   "source": [
    "# Define some constants\n",
    "datasetId = 'PODAAC-CCF30-01XXX'\n",
    "variable = 'uwnd'\n",
    "name = 'Cross-Calibrated Multi-Platform Ocean Surface Wind Vector L3.0 First-Look Analyses'\n",
    "output_plot = \"ccmp_temporal_standard_deviation\"\n",
    "download_path = \"/tmp\""
   ]
  },
  {
   "cell_type": "code",
   "execution_count": null,
   "metadata": {},
   "outputs": [],
   "source": [
    "# Step 1: Download remote PO.DAAC Dataset and read it into an OCW Dataset Object.\n",
    "print(\"Available Level4 PO.DAAC Granules: %s\" % (podaac.list_available_extract_granule_dataset_ids()))\n",
    "print(\"Attempting to download Level4 Granule from Collection '%s' - '%s'.\" % (datasetId, name))\n",
    "ccmp_dataset = podaac.extract_l4_granule(variable=variable, dataset_id=datasetId, name=name, path=download_path)\n",
    "print(\"Granule details: '%s'\" % (ccmp_dataset))\n",
    "#print(\"CCMP_Dataset.values shape: (times, lats, lons) - %s \\n\" % (ccmp_dataset.values.shape))\n",
    "\n",
    "# Acessing latittudes and longitudes of netCDF file\n",
    "lats = ccmp_dataset.lats\n",
    "lons = ccmp_dataset.lons"
   ]
  },
  {
   "cell_type": "code",
   "execution_count": null,
   "metadata": {},
   "outputs": [],
   "source": [
    "# Step 2:  Build a Metric to use for Evaluation - Temporal Standard Deviation for this example.\n",
    "# You can build your own metrics, but OCW also ships with some common metrics\n",
    "print(\"Setting up a Temporal standard deviation metric to use for evaluation...\")\n",
    "std = metrics.TemporalStdDev()"
   ]
  },
  {
   "cell_type": "code",
   "execution_count": null,
   "metadata": {},
   "outputs": [],
   "source": [
    "# Step 3: Create an Evaluation Object using Datasets and our Metric.\n",
    "# The Evaluation Class Signature is:\n",
    "# Evaluation(reference, targets, metrics, subregions=None)\n",
    "# Evaluation can take in multiple targets and metrics, so we need to convert\n",
    "# our examples into Python lists.  Evaluation will iterate over the lists\n",
    "print(\"Making the Evaluation definition...\")\n",
    "# Temporal STD Metric gets one target dataset then reference dataset\n",
    "# should be None\n",
    "std_evaluation = evaluation.Evaluation(None, [ccmp_dataset], [std])\n",
    "print(\"Executing the Evaluation using the object's run() method...\")\n",
    "std_evaluation.run()\n",
    "print(\"Completed model evaluation.\")"
   ]
  },
  {
   "cell_type": "code",
   "execution_count": null,
   "metadata": {},
   "outputs": [],
   "source": [
    "# Step 4: Make a Plot from the Evaluation.results.\n",
    "# The Evaluation.results are a set of nested lists to support many different\n",
    "# possible Evaluation scenarios.\n",
    "#\n",
    "# The Evaluation results docs say:\n",
    "# The shape of results is (num_metrics, num_target_datasets) if no subregion\n",
    "# Accessing the actual results when we have used 1 metric and 1 dataset is\n",
    "# done this way:\n",
    "print(\"Accessing the Results of the Evaluation run\")\n",
    "results = std_evaluation.unary_results[0][0]\n",
    "print(\"The results are of type: %s\" % type(results))\n",
    "print(\"Generating a contour map using ocw.plotter.draw_contour_map()\")\n",
    "\n",
    "fname = output_plot\n",
    "gridshape = (4, 5)\n",
    "plot_title = name + \" Temporal Standard Deviation\"\n",
    "sub_titles = range(2002, 2010, 1)\n",
    "\n",
    "plotter.draw_contour_map(results, lats, lons, fname,\n",
    "                         gridshape=gridshape, ptitle=plot_title,\n",
    "subtitles=sub_titles)"
   ]
  },
  {
   "cell_type": "code",
   "execution_count": null,
   "metadata": {},
   "outputs": [],
   "source": [
    "# Finally, view the image\n",
    "from IPython.display import Image\n",
    "Image(filename=output_plot + '.png') "
   ]
  },
  {
   "cell_type": "code",
   "execution_count": null,
   "metadata": {},
   "outputs": [],
   "source": []
  }
 ],
 "metadata": {
  "kernelspec": {
   "display_name": "Python 3",
   "language": "python",
   "name": "python3"
  },
  "language_info": {
   "codemirror_mode": {
    "name": "ipython",
    "version": 3
   },
   "file_extension": ".py",
   "mimetype": "text/x-python",
   "name": "python",
   "nbconvert_exporter": "python",
   "pygments_lexer": "ipython3",
   "version": "3.6.5"
  }
 },
 "nbformat": 4,
 "nbformat_minor": 2
}
